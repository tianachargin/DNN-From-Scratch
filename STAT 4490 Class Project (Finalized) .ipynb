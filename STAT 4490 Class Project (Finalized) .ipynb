{
 "cells": [
  {
   "cell_type": "code",
   "execution_count": 1,
   "id": "tracked-request",
   "metadata": {},
   "outputs": [
    {
     "name": "stdout",
     "output_type": "stream",
     "text": [
      "119\n",
      "(1605, 120)\n",
      "(1605,)\n"
     ]
    },
    {
     "data": {
      "text/plain": [
       "[<matplotlib.lines.Line2D at 0x12469a7f0>]"
      ]
     },
     "execution_count": 1,
     "metadata": {},
     "output_type": "execute_result"
    },
    {
     "data": {
      "image/png": "[encoded data removed]",
      "text/plain": [
       "<Figure size 432x288 with 1 Axes>"
      ]
     },
     "metadata": {
      "needs_background": "light"
     },
     "output_type": "display_data"
    }
   ],
   "source": [
    "#from joblib import Memory\n",
    "from sklearn.datasets import load_svmlight_file\n",
    "#from scipy.sparse import csc_matrix\n",
    "#from scipy.special import expit\n",
    "#from scipy import sparse\n",
    "#from sklearn.preprocessing import normalize\n",
    "#import numpy as np\n",
    "import pandas as pd\n",
    "import numpy as np\n",
    "import matplotlib.pyplot as plt\n",
    "#from copy import copy\n",
    "#from sklearn import svm\n",
    "#import time\n",
    "#mem = Memory(\"./mycache\")\n",
    "\n",
    "def get_data(datafile):\n",
    "    data = load_svmlight_file(datafile)\n",
    "    return data[0], data[1]\n",
    "\n",
    "\n",
    "X, Z = get_data('/Users/tianachargin/Desktop/PythonSG/STAT 4490/a1a.txt')\n",
    "\n",
    "train = pd.DataFrame(X.todense())\n",
    "\n",
    "features = train.shape[1]\n",
    "print(features)\n",
    "train[features] = 0\n",
    "\n",
    "m = min(Z)\n",
    "M = max(Z)\n",
    "y = (Z-m)/(M-m) # -1 is being convert to 0 \n",
    "\n",
    "\n",
    "first_column = train. iloc[:, 0]\n",
    "\n",
    "print(train.shape)\n",
    "print(y.shape)\n",
    "\n",
    "plt.plot(np.sum(train.values, axis=0), '.')"
   ]
  },
  {
   "cell_type": "code",
   "execution_count": 2,
   "id": "separate-garbage",
   "metadata": {},
   "outputs": [
    {
     "name": "stdout",
     "output_type": "stream",
     "text": [
      "(30956, 120) (30956,)\n"
     ]
    },
    {
     "data": {
      "text/plain": [
       "[<matplotlib.lines.Line2D at 0x124790a90>]"
      ]
     },
     "execution_count": 2,
     "metadata": {},
     "output_type": "execute_result"
    },
    {
     "data": {
      "image/png": "[encoded data removed]",
      "text/plain": [
       "<Figure size 432x288 with 1 Axes>"
      ]
     },
     "metadata": {
      "needs_background": "light"
     },
     "output_type": "display_data"
    }
   ],
   "source": [
    "T, u = get_data('/Users/tianachargin/Desktop/PythonSG/STAT 4490/a1a.t')\n",
    "\n",
    "t = pd.DataFrame(T.todense())\n",
    "# Create 120rd feature as bias value since only 1 record has a value in training data & it's missing from the test data\n",
    "t[features] = 0\n",
    "test = t.iloc[:,0:(features+1)]\n",
    "\n",
    "\n",
    "\n",
    "m = min(u)\n",
    "M = max(u)\n",
    "y_data_test = (u-m)/(M-m)\n",
    "\n",
    "print(test.shape, y_data_test.shape)\n",
    "\n",
    "\n",
    "plt.plot(np.sum(test.values, axis=0), '.')"
   ]
  },
  {
   "cell_type": "code",
   "execution_count": 3,
   "id": "premier-compiler",
   "metadata": {},
   "outputs": [
    {
     "name": "stdout",
     "output_type": "stream",
     "text": [
      "-1.0 1.0\n",
      "[0. 0. 0. 0. 0. 0. 0. 0. 0. 1.]\n",
      "[-1. -1. -1. -1. -1. -1. -1. -1. -1.  1.]\n",
      "(1605, 120) (30956, 120) 119\n",
      "(array([0., 1.]), array([1210,  395]))\n"
     ]
    }
   ],
   "source": [
    "print(m, M)\n",
    "print(y[0:10])\n",
    "print(Z[0:10])\n",
    "print(train.shape, test.shape, features)\n",
    "print(np.unique(y, return_counts=True))"
   ]
  },
  {
   "cell_type": "code",
   "execution_count": 4,
   "id": "graphic-fraud",
   "metadata": {},
   "outputs": [],
   "source": [
    "#import libraries \n",
    "from sklearn.utils import shuffle\n",
    "from sklearn import metrics\n",
    "import numpy as np\n",
    "\n",
    "#Neural Network Class\n",
    "class NN:\n",
    "    def __init__(self, data, labels, learning_rate, num_epochs, bsize, num_nodes = (10, 3, 1), print_freq = 10):\n",
    "        self.x = data #features\n",
    "        self.y = labels #prediction\n",
    "        self.lr = learning_rate\n",
    "        self.epochs = num_epochs\n",
    "        self.batchsize = bsize\n",
    "        self.print_freq = print_freq #number will depict how often you want error and accuracy printed \n",
    "        \n",
    "        #list that holds the value/number of the column count of self.x, call this \"p\"\n",
    "        self.hs = [self.x.shape[1]] \n",
    "        #empty list that will be used for weight matrices \n",
    "        self.ws = [] \n",
    "        \n",
    "        #create weight matrices based on what is passed to num_nodes, will be appending lists\n",
    "        #using for loop in the length of num_nodes allows for flexibility in the number of hidden layers/weights\n",
    "        #the length of num_nodes reflects the number of hidden layers. num_nodes - 1 = amount of hidden layers\n",
    "        #since the last value in num_nodes is the output layer\n",
    "        #each iteration will go through each line\n",
    "        for i in range(len(num_nodes)):\n",
    "            #appending number to a list which will be used to create the weight matrices \n",
    "            #1st iteration -> [p, h2] default = 10 \n",
    "            #2nd iteration ->[p, h2, h1] default = 3\n",
    "            #3rd iteration-> [p, h2, h1, h0] default = 1\n",
    "            self.hs.append(num_nodes[i])\n",
    "            #note -> we need to start at the second to the last index [-2] instead of the last index [-1] to get the \n",
    "            #first demension of the matrix and then the last index will be the second demension \n",
    "            #shapes of the matrix are determined by the columns of the matrix before and the number of nodes is front\n",
    "            #the size is self.hs[-2] + 1 by self.hs[-1]\n",
    "            #appending random samples from uniform distribution from -1 to 1 \n",
    "            #1st iteration -> (p+1, h2) \n",
    "            #2nd iteration -> (h2+1, h1)\n",
    "            #3rd iteration -> (h1+1, h0)\n",
    "            self.ws.append(np.random.uniform(-1,1, (self.hs[-2] +1, self.hs[-1])))\n",
    "            #self.ws[0] = w2\n",
    "            #self.ws[1] = w1\n",
    "            #self.ws[2] = w0\n",
    "    \n",
    "        \n",
    "    #helper function, will prepend (add to the front) a col of 1's to matrix that is passed\n",
    "    #this function is useful since we are prepending a numerous column of one's to matrices \n",
    "    #np.concatenate function concatenates a sequence of arrays along an existing axis\n",
    "    #the shape will be determined by xs.shape[0] and \n",
    "    #since we only want one column and x amount of rows reshape(-1,1) will accomplish this\n",
    "    def _prepend_ones(self, xs):\n",
    "        return np.concatenate((np.ones(xs.shape[0]).reshape(-1,1), xs), axis=1)\n",
    "    \n",
    "    \n",
    "    #batch generator function  \n",
    "    def _nextBatch2(self):\n",
    "        #shuffle() randomizes the items of a list in place.\n",
    "        #RandomState determines random number generation for shuffling the data. Pass an int for reproducible results \n",
    "        #across multiple function calls.\n",
    "        xs, ys = shuffle(self.x, self.y, random_state=None)\n",
    "        #arange([start,] stop[, step,][, dtype]) : Returns an array with evenly spaced elements as per the interval.\n",
    "        for i in np.arange(0, xs.shape[0], self.batchsize):\n",
    "            #yield is a keyword in Python that is used to return from a function without destroying the states of its \n",
    "            #local variable and when the function is called, the execution starts from the last yield statement instead\n",
    "            #of starting all over. \n",
    "            yield (xs[i:(i + self.batchsize)], ys[i:(i + self.batchsize)])  \n",
    "            \n",
    "    #sig function \n",
    "    def sigmoid(self, x):\n",
    "        val = 1/(1+np.exp(-x))\n",
    "        return val\n",
    "            \n",
    "    #_feedForward function will return an activation for every layer \"forward propagation\"\n",
    "    def _feedForward(self, xs):\n",
    "        \n",
    "        #list to hold what is being passed in the method\n",
    "        #at first the list will only hold the x's \n",
    "        y = [xs]\n",
    "        \n",
    "        #prepend a column of ones to the layer matrix using the helper function \n",
    "        #then do a matrix multiplication with that matrix and the weight matrix\n",
    "        #then apply the sigmoid function and append it to the list(y)\n",
    "        #once again, using a for loop always for flexibility in the number of hidden layers\n",
    "        #this time we are using the length of self.ws and what's inside self.ws\n",
    "        #1st iteration -> y = xs, w2\n",
    "        #2nd iteration -> y = y2, w1\n",
    "        #3rd iteration -> y = y1, w0\n",
    "        #after 3rd iteration y = y\n",
    "        for i in range(len(self.ws)):\n",
    "            y_ones = self._prepend_ones(y[-1])\n",
    "            #1st iteration -> y = [xs, y2]\n",
    "            #2nd iteration -> y = [xs, y2, y1]\n",
    "            #3rd iteration -> y = [xs, y2, y1, yhat]\n",
    "            y.append(self.sigmoid(np.matmul(y_ones, self.ws[i])))\n",
    "        #return everything in list y except for the first element which are the xs    \n",
    "        return y[1:] \n",
    "    \n",
    "    #predict function will return most likely class in the last layer, internal function \n",
    "    def predict(self, x):\n",
    "        return self._feedForward(x)[-1] \n",
    "    \n",
    "    \n",
    "    #fit function will calculate change in weights/weight updates and print error and accuracy, back propagation \n",
    "    def fit(self):\n",
    "        for j in range(self.epochs):\n",
    "            for batch_x, batch_y in self._nextBatch2():\n",
    "                \n",
    "                ys = self._feedForward(batch_x)\n",
    "                #ys[0] = y2\n",
    "                #ys[1] = y1\n",
    "                #ys[2] = Yhat\n",
    "                #ys[y2, y1, Yhat]\n",
    "\n",
    "                #yhat - y\n",
    "                chain = ys[-1] - batch_y.reshape(-1,1) \n",
    "                dws = []\n",
    "                \n",
    "                #calculate the change in weights for all but the last layer\n",
    "                #the last layer will be calculated separately since it does a matrix multiplication with x and not y\n",
    "                #using a for loop allows for flexibility\n",
    "                #start at 1, shifts where we are starting and ending since we don't want the last weight matrix\n",
    "                #we don't want to start at index [0] since that's the last layer\n",
    "                for i in range(1, len(self.ws)):\n",
    "                    #(yhat-y)* yhat*(1-yhat)\n",
    "                    #ys[-i] is the last element in list which is yhat\n",
    "                    ddw = chain * ys[-i]*(1-ys[-i])\n",
    "                    #insert calculation into dws at index 0, the chain is being transposed\n",
    "                    #ys[-i -1] is the second to the last\n",
    "                    dws.insert(0, 2*np.matmul(ddw.T, self._prepend_ones(ys[-i - 1])))\n",
    "                    #(yhat-y)*yhat*(1-yhat) x weight matrix without the column of one and transposed \n",
    "                    chain = np.matmul(ddw, self.ws[-i][1:].T)\n",
    "                 \n",
    "                #calculate the chage in weight for the last layer\n",
    "                #(yhat - y)* yhat * (1-yhat)    \n",
    "                #ys[0] = y2 or last layer\n",
    "                ddw = chain * ys[0]*(1-ys[0])\n",
    "                #insert calculation into dws at index 0, the chain is being transposed\n",
    "                dws.insert(0, 2*np.matmul(ddw.T, self._prepend_ones(batch_x)))\n",
    "                \n",
    "                #calculate the weight updates \n",
    "                #for loop allows for flexibility in the amount of hidden layers, depends on the numnber of weight matrices \n",
    "                for i in range(len(self.ws)):\n",
    "                    self.ws[i] -= self.lr*dws[i].T                    \n",
    "                    #self.ws[0] = w2\n",
    "                    #self.ws[1] = w1\n",
    "                    #self.ws[2] = w0\n",
    "                \n",
    "            #print when j%self.print_freq equals 0, this is a modulus calculation \n",
    "            #j is the num of epochs and self.print is the frequency which is passed or defaulted to 10\n",
    "            if j%self.print_freq == 0: \n",
    "                print('Error at epoch', j, self.error(self.x, self.y))\n",
    "                print('Accuracy is ', self.score(self.x, self.y), '\\n')       \n",
    "    \n",
    "    \n",
    "    #internal function that calculates error\n",
    "    def error(self, x, y):\n",
    "        Yhat = self.predict(x)\n",
    "        return  np.sum((y.reshape(-1,1)-Yhat)**2)\n",
    "    \n",
    "    \n",
    "    #internal function that calculates accuracy \n",
    "    def score(self, x, y):\n",
    "        Yhat = self.predict(x)\n",
    "        return  1-np.mean(abs(np.round(Yhat-y.reshape(-1,1))))\n",
    "\n",
    "    \n",
    "    #the weights output is in a dictionary format, idx is the key and i is the value \n",
    "    #f-strings are string literals that have an f at the beginning and curly braces containing expressions that will \n",
    "    #be replaced with their values.\n",
    "    #The enumerate() function assigns an index to each item in an iterable object that can be used to reference the \n",
    "    #item later.\n",
    "    #we want to print from \"backwards\" starting at w2 but we also want to end at w0 and not w1\n",
    "    #hence, -idx -1\n",
    "    def get_params(self):\n",
    "        return {f\"w{len(self.ws) - idx -1}\":i for idx,i in enumerate(self.ws)}\n"
   ]
  },
  {
   "cell_type": "markdown",
   "id": "tribal-rolling",
   "metadata": {},
   "source": [
    "#### Note, for the parameter num_nodes the last value in the tuple is for the output layer and any number before that is the number of nodes in that hidden layer. Meaning, the last number in the tuple should always be a 1. \n",
    "#### For example, a NN with 2 hidden layers with have three numbers in the num_nodes tuple. -> num_nodes = (3, 2, 1)"
   ]
  },
  {
   "cell_type": "code",
   "execution_count": 6,
   "id": "favorite-fiction",
   "metadata": {},
   "outputs": [],
   "source": [
    "model = NN(train, y, learning_rate=0.01, num_epochs=1000, bsize=8, num_nodes = (10, 5, 1), print_freq = 100)"
   ]
  },
  {
   "cell_type": "code",
   "execution_count": 6,
   "id": "available-salem",
   "metadata": {},
   "outputs": [
    {
     "name": "stdout",
     "output_type": "stream",
     "text": [
      "Error at epoch 0 292.03718135402426\n",
      "Accuracy is  0.7538940809968847 \n",
      "\n",
      "Error at epoch 100 157.4634412686387\n",
      "Accuracy is  0.8697819314641745 \n",
      "\n",
      "Error at epoch 200 143.64541354185886\n",
      "Accuracy is  0.8803738317757009 \n",
      "\n",
      "Error at epoch 300 120.02916269254425\n",
      "Accuracy is  0.9090342679127725 \n",
      "\n",
      "Error at epoch 400 97.5880269559153\n",
      "Accuracy is  0.9320872274143303 \n",
      "\n",
      "Error at epoch 500 78.92747105665599\n",
      "Accuracy is  0.9501557632398754 \n",
      "\n",
      "Error at epoch 600 63.52803580822848\n",
      "Accuracy is  0.9601246105919004 \n",
      "\n",
      "Error at epoch 700 51.39098780200502\n",
      "Accuracy is  0.9688473520249221 \n",
      "\n",
      "Error at epoch 800 51.34912573315584\n",
      "Accuracy is  0.9657320872274143 \n",
      "\n",
      "Error at epoch 900 43.52376875353046\n",
      "Accuracy is  0.9719626168224299 \n",
      "\n",
      "Accuracy:  0.805110479390102\n"
     ]
    },
    {
     "data": {
      "text/plain": [
       "{'w2': array([[ 0.82706564, -0.78893117, -0.32721479, ...,  0.45904136,\n",
       "          0.64978691, -0.46972186],\n",
       "        [ 0.72518391,  0.59774096, -0.25669829, ..., -1.39205838,\n",
       "          0.17163099,  1.01135361],\n",
       "        [-0.08666039, -0.02000973,  0.81034538, ...,  0.33608342,\n",
       "          0.29403357, -1.09303209],\n",
       "        ...,\n",
       "        [ 0.57556475,  0.37106489,  0.10945804, ...,  0.5190409 ,\n",
       "         -0.61987251, -0.94641673],\n",
       "        [ 0.17217937,  0.77804441, -0.14839769, ..., -0.26772535,\n",
       "          0.68305945,  0.59562976],\n",
       "        [-0.27852549, -0.17884013, -0.3191175 , ...,  0.55418016,\n",
       "         -0.56541838,  0.83168227]]),\n",
       " 'w1': array([[ 0.29423786,  0.33370988, -0.0510959 ,  0.68060026, -0.8714228 ],\n",
       "        [-0.47593145, -0.22411639, -0.58331355,  0.54214707,  0.06571783],\n",
       "        [-0.36676977,  3.74013969,  0.20224261,  4.99477133, -3.73374012],\n",
       "        [ 0.56759744, -2.92459073, -0.98637919, -4.22861731,  3.40518903],\n",
       "        [ 1.26147115, -1.24590214, -0.81248263, -1.4572012 ,  1.98764172],\n",
       "        [ 0.0746189 ,  2.37723797,  0.61224786,  2.196003  , -2.48333832],\n",
       "        [-1.15077422,  1.79630781, -0.19774012,  3.79489204, -3.31195859],\n",
       "        [ 0.53196913, -0.22422248, -0.45472772, -1.59224881,  1.52021825],\n",
       "        [ 0.72376918, -2.292202  ,  0.65774432, -4.14623316,  2.78757142],\n",
       "        [-0.54126617,  1.56477653,  0.46369185,  2.56988001, -2.40220163],\n",
       "        [-1.20683102,  2.49733211,  0.02444384,  3.43331234, -2.73509305]]),\n",
       " 'w0': array([[ 1.92976649],\n",
       "        [ 2.14741151],\n",
       "        [-6.15522501],\n",
       "        [-0.35927875],\n",
       "        [-9.31839092],\n",
       "        [ 8.29652054]])}"
      ]
     },
     "execution_count": 6,
     "metadata": {},
     "output_type": "execute_result"
    }
   ],
   "source": [
    "model.fit()\n",
    "print(\"Accuracy: \", model.score(test, y_data_test))\n",
    "model.get_params()"
   ]
  },
  {
   "cell_type": "code",
   "execution_count": 7,
   "id": "liked-shareware",
   "metadata": {},
   "outputs": [
    {
     "data": {
      "text/plain": [
       "array([[0.36704801],\n",
       "       [0.37753552],\n",
       "       [0.36745635],\n",
       "       ...,\n",
       "       [0.35226958],\n",
       "       [0.37796496],\n",
       "       [0.38038894]])"
      ]
     },
     "execution_count": 7,
     "metadata": {},
     "output_type": "execute_result"
    }
   ],
   "source": [
    "model.predict(train)"
   ]
  },
  {
   "cell_type": "code",
   "execution_count": null,
   "id": "extreme-recording",
   "metadata": {},
   "outputs": [],
   "source": []
  }
 ],
 "metadata": {
  "kernelspec": {
   "display_name": "Python 3",
   "language": "python",
   "name": "python3"
  },
  "language_info": {
   "codemirror_mode": {
    "name": "ipython",
    "version": 3
   },
   "file_extension": ".py",
   "mimetype": "text/x-python",
   "name": "python",
   "nbconvert_exporter": "python",
   "pygments_lexer": "ipython3",
   "version": "3.8.7"
  }
 },
 "nbformat": 4,
 "nbformat_minor": 5
}
